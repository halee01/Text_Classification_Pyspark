{
  "nbformat": 4,
  "nbformat_minor": 0,
  "metadata": {
    "colab": {
      "provenance": []
    },
    "kernelspec": {
      "name": "python3",
      "display_name": "Python 3"
    },
    "language_info": {
      "name": "python"
    }
  },
  "cells": [
    {
      "cell_type": "code",
      "execution_count": null,
      "metadata": {
        "colab": {
          "base_uri": "https://localhost:8080/"
        },
        "id": "N6HgnmAS4xvu",
        "outputId": "0597bc83-8428-4695-dcf1-8054aa413eb1"
      },
      "outputs": [
        {
          "output_type": "stream",
          "name": "stdout",
          "text": [
            "tar: spark-3.0.1-bin-hadoop2.7.tgz: Cannot open: No such file or directory\n",
            "tar: Error is not recoverable: exiting now\n",
            "Collecting pyspark\n",
            "  Downloading pyspark-3.5.1.tar.gz (317.0 MB)\n",
            "\u001b[2K     \u001b[90m━━━━━━━━━━━━━━━━━━━━━━━━━━━━━━━━━━━━━━━━\u001b[0m \u001b[32m317.0/317.0 MB\u001b[0m \u001b[31m2.9 MB/s\u001b[0m eta \u001b[36m0:00:00\u001b[0m\n",
            "\u001b[?25h  Preparing metadata (setup.py) ... \u001b[?25l\u001b[?25hdone\n",
            "Requirement already satisfied: py4j==0.10.9.7 in /usr/local/lib/python3.10/dist-packages (from pyspark) (0.10.9.7)\n",
            "Building wheels for collected packages: pyspark\n",
            "  Building wheel for pyspark (setup.py) ... \u001b[?25l\u001b[?25hdone\n",
            "  Created wheel for pyspark: filename=pyspark-3.5.1-py2.py3-none-any.whl size=317488491 sha256=e4679d33633cdbf0e8f40c71e4f7e664ba051b642eda09e338c472f10da97506\n",
            "  Stored in directory: /root/.cache/pip/wheels/80/1d/60/2c256ed38dddce2fdd93be545214a63e02fbd8d74fb0b7f3a6\n",
            "Successfully built pyspark\n",
            "Installing collected packages: pyspark\n",
            "Successfully installed pyspark-3.5.1\n",
            "update-alternatives: using /usr/lib/jvm/java-8-openjdk-amd64/jre/bin/java to provide /usr/bin/java (java) in manual mode\n",
            "openjdk version \"1.8.0_402\"\n",
            "OpenJDK Runtime Environment (build 1.8.0_402-8u402-ga-2ubuntu1~22.04-b06)\n",
            "OpenJDK 64-Bit Server VM (build 25.402-b06, mixed mode)\n"
          ]
        }
      ],
      "source": [
        "#@title\n",
        "!apt-get install openjdk-8-jdk-headless -qq > /dev/null\n",
        "!wget -q https://downloads.apache.org/spark/spark-3.0.1/spark-3.0.1-bin-hadoop2.7.tgz\n",
        "!tar xf spark-3.0.1-bin-hadoop2.7.tgz\n",
        "!pip install -q findspark\n",
        "!pip install pyspark\n",
        "import os\n",
        "os.environ[\"JAVA_HOME\"] = \"/usr/lib/jvm/java-8-openjdk-amd64\"\n",
        "!update-alternatives --set java /usr/lib/jvm/java-8-openjdk-amd64/jre/bin/java\n",
        "!java -version\n",
        "\n",
        "\n",
        "import pyspark"
      ]
    },
    {
      "cell_type": "code",
      "source": [
        "from pyspark.sql import SparkSession\n",
        "\n",
        "spark = SparkSession \\\n",
        "    .builder \\\n",
        "    .appName(\"TextClassifierwithPySpark\") \\\n",
        "    .getOrCreate()\n",
        "\n",
        "print(\"Initialization successful\")"
      ],
      "metadata": {
        "colab": {
          "base_uri": "https://localhost:8080/"
        },
        "id": "gI-3aDOBRX7A",
        "outputId": "dad46ae1-805a-4f77-dc3c-545f447103d3"
      },
      "execution_count": null,
      "outputs": [
        {
          "output_type": "stream",
          "name": "stdout",
          "text": [
            "Initialization successful\n"
          ]
        }
      ]
    },
    {
      "cell_type": "code",
      "source": [
        "# Load Our Dataset\n",
        "df = spark.read.csv(\"/content/data - data.csv\",inferSchema=True,header=True)"
      ],
      "metadata": {
        "id": "Bna_JPh4Ugug"
      },
      "execution_count": null,
      "outputs": []
    },
    {
      "cell_type": "code",
      "source": [
        "df.show()\n"
      ],
      "metadata": {
        "colab": {
          "base_uri": "https://localhost:8080/"
        },
        "id": "cLQmF2daUnR6",
        "outputId": "440ac76d-ec79-45f4-f2df-79e75a55bbb7"
      },
      "execution_count": null,
      "outputs": [
        {
          "output_type": "stream",
          "name": "stdout",
          "text": [
            "+---+---------+--------------------+--------------------+-------+-----+---------------+-----------+------------+------------------+----------------+--------------------+----------------+--------------------+\n",
            "|_c0|course_id|        course_title|                 url|is_paid|price|num_subscribers|num_reviews|num_lectures|             level|content_duration| published_timestamp|         subject|  clean_course_title|\n",
            "+---+---------+--------------------+--------------------+-------+-----+---------------+-----------+------------+------------------+----------------+--------------------+----------------+--------------------+\n",
            "|  0|  1070968|Ultimate Investme...|https://www.udemy...|   TRUE|  200|           2147|         23|          51|        All Levels|       1.5 hours|2017-01-18T20:58:58Z|Business Finance|Ultimate Investme...|\n",
            "|  1|  1113822|Complete GST Cour...|https://www.udemy...|   TRUE|   75|           2792|        923|         274|        All Levels|        39 hours|2017-03-09T16:34:20Z|Business Finance|Complete GST Cour...|\n",
            "|  2|  1006314|Financial Modelin...|https://www.udemy...|   TRUE|   45|           2174|         74|          51|Intermediate Level|       2.5 hours|2016-12-19T19:26:30Z|Business Finance|Financial Modelin...|\n",
            "|  3|  1210588|Beginner to Pro -...|https://www.udemy...|   TRUE|   95|           2451|         11|          36|        All Levels|         3 hours|2017-05-30T20:07:24Z|Business Finance|Beginner Pro  Fin...|\n",
            "|  4|  1011058|How To Maximize Y...|https://www.udemy...|   TRUE|  200|           1276|         45|          26|Intermediate Level|         2 hours|2016-12-13T14:57:18Z|Business Finance|Maximize Profits ...|\n",
            "|  5|   192870|Trading Penny Sto...|https://www.udemy...|   TRUE|  150|           9221|        138|          25|        All Levels|         3 hours|2014-05-02T15:13:30Z|Business Finance|Trading Penny Sto...|\n",
            "|  6|   739964|Investing And Tra...|https://www.udemy...|   TRUE|   65|           1540|        178|          26|    Beginner Level|          1 hour|2016-02-21T18:23:12Z|Business Finance|Investing Trading...|\n",
            "|  7|   403100|Trading Stock Cha...|https://www.udemy...|   TRUE|   95|           2917|        148|          23|        All Levels|       2.5 hours|2015-01-30T22:13:03Z|Business Finance|Trading Stock Cha...|\n",
            "|  8|   476268|Options Trading 3...|https://www.udemy...|   TRUE|  195|           5172|         34|          38|      Expert Level|       2.5 hours|2015-05-28T00:14:03Z|Business Finance|Options Trading 3...|\n",
            "|  9|  1167710|The Only Investme...|https://www.udemy...|   TRUE|  200|            827|         14|          15|        All Levels|          1 hour|2017-04-18T18:13:32Z|Business Finance|Investment Strate...|\n",
            "| 10|   592338|Forex Trading Sec...|https://www.udemy...|   TRUE|  200|           4284|         93|          76|        All Levels|         5 hours|2015-09-11T16:47:02Z|Business Finance|Forex Trading Sec...|\n",
            "| 11|   975046|Trading Options W...|https://www.udemy...|   TRUE|  200|           1380|         42|          17|        All Levels|          1 hour|2016-10-18T22:52:31Z|Business Finance|Trading Options M...|\n",
            "| 12|   742602|Financial Managem...|https://www.udemy...|   TRUE|   30|           3607|         21|          19|        All Levels|       1.5 hours|2016-02-03T18:04:01Z|Business Finance|Financial Managem...|\n",
            "| 13|   794151|Forex Trading Cou...|https://www.udemy...|   TRUE|  195|           4061|         52|          16|        All Levels|         2 hours|2016-03-16T15:40:19Z|Business Finance|Forex Trading Cou...|\n",
            "| 14|  1196544|Python Algo Tradi...|https://www.udemy...|   TRUE|  200|            294|         19|          42|        All Levels|         7 hours|2017-04-28T16:41:44Z|Business Finance|Python Algo Tradi...|\n",
            "| 15|   504036|Short Selling: Le...|https://www.udemy...|   TRUE|   75|           2276|        106|          19|Intermediate Level|       1.5 hours|2015-06-22T21:18:35Z|Business Finance|Short Selling Lea...|\n",
            "| 16|   719698|Basic Technical A...|https://www.udemy...|   TRUE|   20|           4919|         79|          16|    Beginner Level|       1.5 hours|2016-01-08T17:21:26Z|Business Finance|Basic Technical A...|\n",
            "| 17|   564966|The Complete Char...|https://www.udemy...|   TRUE|  200|           2666|        115|          52|        All Levels|         4 hours|2015-08-10T21:07:35Z|Business Finance|Complete Chart Pa...|\n",
            "| 18|   606928|7 Deadly Mistakes...|https://www.udemy...|   TRUE|   50|           5354|         24|          23|        All Levels|       1.5 hours|2015-09-21T18:10:34Z|Business Finance|7 Deadly Mistakes...|\n",
            "| 19|    58977|Financial Stateme...|https://www.udemy...|   TRUE|   95|           8095|        249|          12|    Beginner Level|         35 mins|2013-06-09T00:21:26Z|Business Finance|Financial Stateme...|\n",
            "+---+---------+--------------------+--------------------+-------+-----+---------------+-----------+------------+------------------+----------------+--------------------+----------------+--------------------+\n",
            "only showing top 20 rows\n",
            "\n"
          ]
        }
      ]
    },
    {
      "cell_type": "markdown",
      "source": [],
      "metadata": {
        "id": "b6DColJGXNma"
      }
    },
    {
      "cell_type": "code",
      "source": [
        "df.columns"
      ],
      "metadata": {
        "colab": {
          "base_uri": "https://localhost:8080/"
        },
        "id": "wFBSYaJXVM4n",
        "outputId": "063e4303-4c91-4834-f854-94025b043b13"
      },
      "execution_count": null,
      "outputs": [
        {
          "output_type": "execute_result",
          "data": {
            "text/plain": [
              "['_c0',\n",
              " 'course_id',\n",
              " 'course_title',\n",
              " 'url',\n",
              " 'is_paid',\n",
              " 'price',\n",
              " 'num_subscribers',\n",
              " 'num_reviews',\n",
              " 'num_lectures',\n",
              " 'level',\n",
              " 'content_duration',\n",
              " 'published_timestamp',\n",
              " 'subject',\n",
              " 'clean_course_title']"
            ]
          },
          "metadata": {},
          "execution_count": 5
        }
      ]
    },
    {
      "cell_type": "code",
      "source": [
        "df=df.select('course_title','subject')"
      ],
      "metadata": {
        "id": "jSaBdSmyVW3I"
      },
      "execution_count": null,
      "outputs": []
    },
    {
      "cell_type": "code",
      "source": [
        "df.groupby('subject').count().show()"
      ],
      "metadata": {
        "colab": {
          "base_uri": "https://localhost:8080/"
        },
        "id": "wkDldV7PVsk0",
        "outputId": "12d43cd2-8e46-40b5-8df0-0705b5bd4091"
      },
      "execution_count": null,
      "outputs": [
        {
          "output_type": "stream",
          "name": "stdout",
          "text": [
            "+--------------------+-----+\n",
            "|             subject|count|\n",
            "+--------------------+-----+\n",
            "|play Electric Gui...|    1|\n",
            "|Multiply returns ...|    1|\n",
            "|                null|    6|\n",
            "|    Business Finance| 1198|\n",
            "|Introduction Guit...|    1|\n",
            "|Learn Play Fernan...|    1|\n",
            "|      Graphic Design|  603|\n",
            "|Aprende tocar el ...|    1|\n",
            "|     Web Development| 1200|\n",
            "|Learn Classical G...|    1|\n",
            "| Musical Instruments|  676|\n",
            "+--------------------+-----+\n",
            "\n"
          ]
        }
      ]
    },
    {
      "cell_type": "code",
      "source": [
        "df.toPandas().describe()"
      ],
      "metadata": {
        "colab": {
          "base_uri": "https://localhost:8080/",
          "height": 175
        },
        "id": "_nZ85ctAXW25",
        "outputId": "5420efad-3d74-471f-9617-beb4409f1d5b"
      },
      "execution_count": null,
      "outputs": [
        {
          "output_type": "execute_result",
          "data": {
            "text/plain": [
              "                                             course_title          subject\n",
              "count                                                3689             3683\n",
              "unique                                               3674               10\n",
              "top     Creating an animated greeting card via Google ...  Web Development\n",
              "freq                                                    3             1200"
            ],
            "text/html": [
              "\n",
              "  <div id=\"df-134cbbcf-7c17-43f8-be38-7b14bd90c527\">\n",
              "    <div class=\"colab-df-container\">\n",
              "      <div>\n",
              "<style scoped>\n",
              "    .dataframe tbody tr th:only-of-type {\n",
              "        vertical-align: middle;\n",
              "    }\n",
              "\n",
              "    .dataframe tbody tr th {\n",
              "        vertical-align: top;\n",
              "    }\n",
              "\n",
              "    .dataframe thead th {\n",
              "        text-align: right;\n",
              "    }\n",
              "</style>\n",
              "<table border=\"1\" class=\"dataframe\">\n",
              "  <thead>\n",
              "    <tr style=\"text-align: right;\">\n",
              "      <th></th>\n",
              "      <th>course_title</th>\n",
              "      <th>subject</th>\n",
              "    </tr>\n",
              "  </thead>\n",
              "  <tbody>\n",
              "    <tr>\n",
              "      <th>count</th>\n",
              "      <td>3689</td>\n",
              "      <td>3683</td>\n",
              "    </tr>\n",
              "    <tr>\n",
              "      <th>unique</th>\n",
              "      <td>3674</td>\n",
              "      <td>10</td>\n",
              "    </tr>\n",
              "    <tr>\n",
              "      <th>top</th>\n",
              "      <td>Creating an animated greeting card via Google ...</td>\n",
              "      <td>Web Development</td>\n",
              "    </tr>\n",
              "    <tr>\n",
              "      <th>freq</th>\n",
              "      <td>3</td>\n",
              "      <td>1200</td>\n",
              "    </tr>\n",
              "  </tbody>\n",
              "</table>\n",
              "</div>\n",
              "      <button class=\"colab-df-convert\" onclick=\"convertToInteractive('df-134cbbcf-7c17-43f8-be38-7b14bd90c527')\"\n",
              "              title=\"Convert this dataframe to an interactive table.\"\n",
              "              style=\"display:none;\">\n",
              "        \n",
              "  <svg xmlns=\"http://www.w3.org/2000/svg\" height=\"24px\"viewBox=\"0 0 24 24\"\n",
              "       width=\"24px\">\n",
              "    <path d=\"M0 0h24v24H0V0z\" fill=\"none\"/>\n",
              "    <path d=\"M18.56 5.44l.94 2.06.94-2.06 2.06-.94-2.06-.94-.94-2.06-.94 2.06-2.06.94zm-11 1L8.5 8.5l.94-2.06 2.06-.94-2.06-.94L8.5 2.5l-.94 2.06-2.06.94zm10 10l.94 2.06.94-2.06 2.06-.94-2.06-.94-.94-2.06-.94 2.06-2.06.94z\"/><path d=\"M17.41 7.96l-1.37-1.37c-.4-.4-.92-.59-1.43-.59-.52 0-1.04.2-1.43.59L10.3 9.45l-7.72 7.72c-.78.78-.78 2.05 0 2.83L4 21.41c.39.39.9.59 1.41.59.51 0 1.02-.2 1.41-.59l7.78-7.78 2.81-2.81c.8-.78.8-2.07 0-2.86zM5.41 20L4 18.59l7.72-7.72 1.47 1.35L5.41 20z\"/>\n",
              "  </svg>\n",
              "      </button>\n",
              "      \n",
              "  <style>\n",
              "    .colab-df-container {\n",
              "      display:flex;\n",
              "      flex-wrap:wrap;\n",
              "      gap: 12px;\n",
              "    }\n",
              "\n",
              "    .colab-df-convert {\n",
              "      background-color: #E8F0FE;\n",
              "      border: none;\n",
              "      border-radius: 50%;\n",
              "      cursor: pointer;\n",
              "      display: none;\n",
              "      fill: #1967D2;\n",
              "      height: 32px;\n",
              "      padding: 0 0 0 0;\n",
              "      width: 32px;\n",
              "    }\n",
              "\n",
              "    .colab-df-convert:hover {\n",
              "      background-color: #E2EBFA;\n",
              "      box-shadow: 0px 1px 2px rgba(60, 64, 67, 0.3), 0px 1px 3px 1px rgba(60, 64, 67, 0.15);\n",
              "      fill: #174EA6;\n",
              "    }\n",
              "\n",
              "    [theme=dark] .colab-df-convert {\n",
              "      background-color: #3B4455;\n",
              "      fill: #D2E3FC;\n",
              "    }\n",
              "\n",
              "    [theme=dark] .colab-df-convert:hover {\n",
              "      background-color: #434B5C;\n",
              "      box-shadow: 0px 1px 3px 1px rgba(0, 0, 0, 0.15);\n",
              "      filter: drop-shadow(0px 1px 2px rgba(0, 0, 0, 0.3));\n",
              "      fill: #FFFFFF;\n",
              "    }\n",
              "  </style>\n",
              "\n",
              "      <script>\n",
              "        const buttonEl =\n",
              "          document.querySelector('#df-134cbbcf-7c17-43f8-be38-7b14bd90c527 button.colab-df-convert');\n",
              "        buttonEl.style.display =\n",
              "          google.colab.kernel.accessAllowed ? 'block' : 'none';\n",
              "\n",
              "        async function convertToInteractive(key) {\n",
              "          const element = document.querySelector('#df-134cbbcf-7c17-43f8-be38-7b14bd90c527');\n",
              "          const dataTable =\n",
              "            await google.colab.kernel.invokeFunction('convertToInteractive',\n",
              "                                                     [key], {});\n",
              "          if (!dataTable) return;\n",
              "\n",
              "          const docLinkHtml = 'Like what you see? Visit the ' +\n",
              "            '<a target=\"_blank\" href=https://colab.research.google.com/notebooks/data_table.ipynb>data table notebook</a>'\n",
              "            + ' to learn more about interactive tables.';\n",
              "          element.innerHTML = '';\n",
              "          dataTable['output_type'] = 'display_data';\n",
              "          await google.colab.output.renderOutput(dataTable, element);\n",
              "          const docLink = document.createElement('div');\n",
              "          docLink.innerHTML = docLinkHtml;\n",
              "          element.appendChild(docLink);\n",
              "        }\n",
              "      </script>\n",
              "    </div>\n",
              "  </div>\n",
              "  "
            ]
          },
          "metadata": {},
          "execution_count": 8
        }
      ]
    },
    {
      "cell_type": "code",
      "source": [
        "df.toPandas()['subject'].value_counts()"
      ],
      "metadata": {
        "colab": {
          "base_uri": "https://localhost:8080/"
        },
        "id": "I1cy3lzlWYkK",
        "outputId": "8b467ff9-d667-4866-d0a5-37d65a79db22"
      },
      "execution_count": null,
      "outputs": [
        {
          "output_type": "execute_result",
          "data": {
            "text/plain": [
              "Web Development                                                                                                                                                                                              1200\n",
              "Business Finance                                                                                                                                                                                             1198\n",
              "Musical Instruments                                                                                                                                                                                           676\n",
              "Graphic Design                                                                                                                                                                                                603\n",
              "Multiply returns Value Investinghttpswwwudemycommultiplyyourreturnsusingvalueinvestingtrue2019421963All Levels45 hours20150723T000833Z 874284Weekly Forex Analysis Baraq FX                                     1\n",
              "Learn Play Fernando Sors Study B minorhttpswwwudemycomstudyinbminortrue115140359Intermediate Level43 mins20140127T205816Z 398746Piano Chord Based System  Learn Play Pros Do                                    1\n",
              "play Electric Guitarhttpswwwudemycomelectricguitarbeginnersmethodtrue501105520Beginner Level2 hours20161229T002406Z 42038Learn Piano Today Play Piano Course Quick Lessons                                      1\n",
              "Learn Classical Guitar Technique play Spanish Romancehttpswwwudemycomguitartechniquestrue19513164643All Levels5 hours20131118T175959Z 265888Learn Guitar Worship Learn 4 Songs unlock 1                         1\n",
              "Introduction Guitar A Course Beginnershttpswwwudemycomintroductiontoguitartrue251631156Beginner Level25 hours20141030T155939Z 650804Guitar Master Class Learning Play Guitar Z                                  1\n",
              "Aprende tocar el Acorden de odo con tcnicahttpswwwudemycomaprendeatocarelacordeondeoidoycontecnicatrue25932134Beginner Level4 hours20140916T195145Z 263432Aprende los Secretos de la Armnica con HARPSOUL       1\n",
              "Name: subject, dtype: int64"
            ]
          },
          "metadata": {},
          "execution_count": 9
        }
      ]
    },
    {
      "cell_type": "code",
      "source": [
        "df.toPandas()['subject'].isnull().sum()"
      ],
      "metadata": {
        "colab": {
          "base_uri": "https://localhost:8080/"
        },
        "id": "VHqrIsXUYX2F",
        "outputId": "562e51a7-8230-41ca-fab1-feb2347ed8c3"
      },
      "execution_count": null,
      "outputs": [
        {
          "output_type": "execute_result",
          "data": {
            "text/plain": [
              "6"
            ]
          },
          "metadata": {},
          "execution_count": 10
        }
      ]
    },
    {
      "cell_type": "code",
      "source": [
        "df=df.dropna(subset=('subject'))"
      ],
      "metadata": {
        "id": "25oEv4dCYuJk"
      },
      "execution_count": null,
      "outputs": []
    },
    {
      "cell_type": "code",
      "source": [
        "df.toPandas()['subject'].isnull().sum()"
      ],
      "metadata": {
        "colab": {
          "base_uri": "https://localhost:8080/"
        },
        "id": "UGpenxX5Y_Yj",
        "outputId": "7ca6ca3c-35d6-4b86-f715-acc78fb3d9dd"
      },
      "execution_count": null,
      "outputs": [
        {
          "output_type": "execute_result",
          "data": {
            "text/plain": [
              "0"
            ]
          },
          "metadata": {},
          "execution_count": 12
        }
      ]
    },
    {
      "cell_type": "code",
      "source": [
        "import pyspark.ml.feature\n",
        "dir(pyspark.ml.feature)"
      ],
      "metadata": {
        "colab": {
          "base_uri": "https://localhost:8080/"
        },
        "id": "Jcwxp9Y6a3yq",
        "outputId": "eef223dd-5552-4cff-8ede-4f496b73e4fb"
      },
      "execution_count": null,
      "outputs": [
        {
          "output_type": "execute_result",
          "data": {
            "text/plain": [
              "['Any',\n",
              " 'Binarizer',\n",
              " 'BucketedRandomProjectionLSH',\n",
              " 'BucketedRandomProjectionLSHModel',\n",
              " 'Bucketizer',\n",
              " 'ChiSqSelector',\n",
              " 'ChiSqSelectorModel',\n",
              " 'CountVectorizer',\n",
              " 'CountVectorizerModel',\n",
              " 'DCT',\n",
              " 'DataFrame',\n",
              " 'DenseMatrix',\n",
              " 'DenseVector',\n",
              " 'Dict',\n",
              " 'ElementwiseProduct',\n",
              " 'FeatureHasher',\n",
              " 'Generic',\n",
              " 'HasFeaturesCol',\n",
              " 'HasHandleInvalid',\n",
              " 'HasInputCol',\n",
              " 'HasInputCols',\n",
              " 'HasLabelCol',\n",
              " 'HasMaxIter',\n",
              " 'HasNumFeatures',\n",
              " 'HasOutputCol',\n",
              " 'HasOutputCols',\n",
              " 'HasRelativeError',\n",
              " 'HasSeed',\n",
              " 'HasStepSize',\n",
              " 'HasThreshold',\n",
              " 'HasThresholds',\n",
              " 'HashingTF',\n",
              " 'IDF',\n",
              " 'IDFModel',\n",
              " 'Imputer',\n",
              " 'ImputerModel',\n",
              " 'IndexToString',\n",
              " 'Interaction',\n",
              " 'JM',\n",
              " 'JavaEstimator',\n",
              " 'JavaMLReadable',\n",
              " 'JavaMLWritable',\n",
              " 'JavaModel',\n",
              " 'JavaParams',\n",
              " 'JavaTransformer',\n",
              " 'List',\n",
              " 'MaxAbsScaler',\n",
              " 'MaxAbsScalerModel',\n",
              " 'MinHashLSH',\n",
              " 'MinHashLSHModel',\n",
              " 'MinMaxScaler',\n",
              " 'MinMaxScalerModel',\n",
              " 'NGram',\n",
              " 'Normalizer',\n",
              " 'OneHotEncoder',\n",
              " 'OneHotEncoderModel',\n",
              " 'Optional',\n",
              " 'P',\n",
              " 'PCA',\n",
              " 'PCAModel',\n",
              " 'Param',\n",
              " 'Params',\n",
              " 'PolynomialExpansion',\n",
              " 'QuantileDiscretizer',\n",
              " 'RFormula',\n",
              " 'RFormulaModel',\n",
              " 'RegexTokenizer',\n",
              " 'RobustScaler',\n",
              " 'RobustScalerModel',\n",
              " 'SQLTransformer',\n",
              " 'SparkContext',\n",
              " 'StandardScaler',\n",
              " 'StandardScalerModel',\n",
              " 'StopWordsRemover',\n",
              " 'StringIndexer',\n",
              " 'StringIndexerModel',\n",
              " 'TYPE_CHECKING',\n",
              " 'Tokenizer',\n",
              " 'Tuple',\n",
              " 'TypeConverters',\n",
              " 'TypeVar',\n",
              " 'Union',\n",
              " 'UnivariateFeatureSelector',\n",
              " 'UnivariateFeatureSelectorModel',\n",
              " 'VarianceThresholdSelector',\n",
              " 'VarianceThresholdSelectorModel',\n",
              " 'Vector',\n",
              " 'VectorAssembler',\n",
              " 'VectorIndexer',\n",
              " 'VectorIndexerModel',\n",
              " 'VectorSizeHint',\n",
              " 'VectorSlicer',\n",
              " 'Word2Vec',\n",
              " 'Word2VecModel',\n",
              " '_BucketedRandomProjectionLSHParams',\n",
              " '_CountVectorizerParams',\n",
              " '_IDFParams',\n",
              " '_ImputerParams',\n",
              " '_LSH',\n",
              " '_LSHModel',\n",
              " '_LSHParams',\n",
              " '_MaxAbsScalerParams',\n",
              " '_MinMaxScalerParams',\n",
              " '_OneHotEncoderParams',\n",
              " '_PCAParams',\n",
              " '_RFormulaParams',\n",
              " '_RobustScalerParams',\n",
              " '_Selector',\n",
              " '_SelectorModel',\n",
              " '_SelectorParams',\n",
              " '_StandardScalerParams',\n",
              " '_StringIndexerParams',\n",
              " '_UnivariateFeatureSelectorParams',\n",
              " '_VarianceThresholdSelectorParams',\n",
              " '_VectorIndexerParams',\n",
              " '_Word2VecParams',\n",
              " '__all__',\n",
              " '__builtins__',\n",
              " '__cached__',\n",
              " '__doc__',\n",
              " '__file__',\n",
              " '__loader__',\n",
              " '__name__',\n",
              " '__package__',\n",
              " '__spec__',\n",
              " '_convert_to_vector',\n",
              " '_jvm',\n",
              " 'cast',\n",
              " 'inherit_doc',\n",
              " 'keyword_only',\n",
              " 'overload',\n",
              " 'since']"
            ]
          },
          "metadata": {},
          "execution_count": 13
        }
      ]
    },
    {
      "cell_type": "code",
      "source": [
        "from pyspark.ml.feature import Tokenizer,StopWordsRemover,IDF,CountVectorizer\n",
        "from pyspark.ml.feature import StringIndexer"
      ],
      "metadata": {
        "id": "7FIZJrtkbgqH"
      },
      "execution_count": null,
      "outputs": []
    },
    {
      "cell_type": "code",
      "source": [
        "df.show(5)"
      ],
      "metadata": {
        "colab": {
          "base_uri": "https://localhost:8080/"
        },
        "id": "pzWYT0DdcEkw",
        "outputId": "6f87fee2-2f89-4b5a-f90b-b8efc8e5a915"
      },
      "execution_count": null,
      "outputs": [
        {
          "output_type": "stream",
          "name": "stdout",
          "text": [
            "+--------------------+----------------+\n",
            "|        course_title|         subject|\n",
            "+--------------------+----------------+\n",
            "|Ultimate Investme...|Business Finance|\n",
            "|Complete GST Cour...|Business Finance|\n",
            "|Financial Modelin...|Business Finance|\n",
            "|Beginner to Pro -...|Business Finance|\n",
            "|How To Maximize Y...|Business Finance|\n",
            "+--------------------+----------------+\n",
            "only showing top 5 rows\n",
            "\n"
          ]
        }
      ]
    },
    {
      "cell_type": "code",
      "source": [
        "# Stages For the Pipeline\n",
        "tokenizer = Tokenizer(inputCol='course_title',outputCol='mytokens')\n",
        "stopwords_remover = StopWordsRemover(inputCol='mytokens',outputCol='filtered_tokens')\n",
        "vectorizer = CountVectorizer(inputCol='filtered_tokens',outputCol='rawFeatures')\n",
        "idf = IDF(inputCol='rawFeatures',outputCol='vectorizedFeatures')"
      ],
      "metadata": {
        "id": "Qp9uBD3edXkQ"
      },
      "execution_count": null,
      "outputs": []
    },
    {
      "cell_type": "code",
      "source": [
        "# LabelEncoding/LabelIndexing\n",
        "labelEncoder = StringIndexer(inputCol='subject',outputCol='label').fit(df)"
      ],
      "metadata": {
        "id": "VMAzLjkUdw2V"
      },
      "execution_count": null,
      "outputs": []
    },
    {
      "cell_type": "code",
      "source": [
        "df=labelEncoder.transform(df)"
      ],
      "metadata": {
        "id": "43b2OzfFd6nw"
      },
      "execution_count": null,
      "outputs": []
    },
    {
      "cell_type": "code",
      "source": [
        "labelEncoder.labels"
      ],
      "metadata": {
        "colab": {
          "base_uri": "https://localhost:8080/"
        },
        "id": "XcucSFc7eDJ2",
        "outputId": "bf71554d-8961-456a-bb17-7fe391211ddd"
      },
      "execution_count": null,
      "outputs": [
        {
          "output_type": "execute_result",
          "data": {
            "text/plain": [
              "['Web Development',\n",
              " 'Business Finance',\n",
              " 'Musical Instruments',\n",
              " 'Graphic Design',\n",
              " 'Aprende tocar el Acorden de odo con tcnicahttpswwwudemycomaprendeatocarelacordeondeoidoycontecnicatrue25932134Beginner Level4 hours20140916T195145Z 263432Aprende los Secretos de la Armnica con HARPSOUL',\n",
              " 'Introduction Guitar A Course Beginnershttpswwwudemycomintroductiontoguitartrue251631156Beginner Level25 hours20141030T155939Z 650804Guitar Master Class Learning Play Guitar Z',\n",
              " 'Learn Classical Guitar Technique play Spanish Romancehttpswwwudemycomguitartechniquestrue19513164643All Levels5 hours20131118T175959Z 265888Learn Guitar Worship Learn 4 Songs unlock 1',\n",
              " 'Learn Play Fernando Sors Study B minorhttpswwwudemycomstudyinbminortrue115140359Intermediate Level43 mins20140127T205816Z 398746Piano Chord Based System  Learn Play Pros Do',\n",
              " 'Multiply returns Value Investinghttpswwwudemycommultiplyyourreturnsusingvalueinvestingtrue2019421963All Levels45 hours20150723T000833Z 874284Weekly Forex Analysis Baraq FX',\n",
              " 'play Electric Guitarhttpswwwudemycomelectricguitarbeginnersmethodtrue501105520Beginner Level2 hours20161229T002406Z 42038Learn Piano Today Play Piano Course Quick Lessons']"
            ]
          },
          "metadata": {},
          "execution_count": 19
        }
      ]
    },
    {
      "cell_type": "code",
      "source": [
        "df.show(5)"
      ],
      "metadata": {
        "colab": {
          "base_uri": "https://localhost:8080/"
        },
        "id": "kvShqzcHfBmC",
        "outputId": "1f2ffecc-07ca-47cc-89b7-5511b54de4a7"
      },
      "execution_count": null,
      "outputs": [
        {
          "output_type": "stream",
          "name": "stdout",
          "text": [
            "+--------------------+----------------+-----+\n",
            "|        course_title|         subject|label|\n",
            "+--------------------+----------------+-----+\n",
            "|Ultimate Investme...|Business Finance|  1.0|\n",
            "|Complete GST Cour...|Business Finance|  1.0|\n",
            "|Financial Modelin...|Business Finance|  1.0|\n",
            "|Beginner to Pro -...|Business Finance|  1.0|\n",
            "|How To Maximize Y...|Business Finance|  1.0|\n",
            "+--------------------+----------------+-----+\n",
            "only showing top 5 rows\n",
            "\n"
          ]
        }
      ]
    },
    {
      "cell_type": "code",
      "source": [
        "(trainDF,testDF) = df.randomSplit((0.7,0.3),seed=42)"
      ],
      "metadata": {
        "id": "gqUzJbPQfw63"
      },
      "execution_count": null,
      "outputs": []
    },
    {
      "cell_type": "code",
      "source": [
        "trainDF.show()"
      ],
      "metadata": {
        "colab": {
          "base_uri": "https://localhost:8080/"
        },
        "id": "QcClzp6zf2IO",
        "outputId": "a4d75f40-056b-421a-e0f8-417540fa38ba"
      },
      "execution_count": null,
      "outputs": [
        {
          "output_type": "stream",
          "name": "stdout",
          "text": [
            "+--------------------+--------------------+-----+\n",
            "|        course_title|             subject|label|\n",
            "+--------------------+--------------------+-----+\n",
            "|#1 Piano Hand Coo...| Musical Instruments|  2.0|\n",
            "|#10 Hand Coordina...| Musical Instruments|  2.0|\n",
            "|#4 Piano Hand Coo...| Musical Instruments|  2.0|\n",
            "|#5  Piano Hand Co...| Musical Instruments|  2.0|\n",
            "|#6 Piano Hand Coo...| Musical Instruments|  2.0|\n",
            "|'Geometry Of Chan...|    Business Finance|  1.0|\n",
            "|              000!\"\"|Learn Classical G...|  6.0|\n",
            "|1 - Concepts of S...|    Business Finance|  1.0|\n",
            "|          1 Hour CSS|     Web Development|  0.0|\n",
            "|1. Principles of ...|    Business Finance|  1.0|\n",
            "|10 Numbers Every ...|    Business Finance|  1.0|\n",
            "|10.  Bonds and Bo...|    Business Finance|  1.0|\n",
            "|101 Blues riffs -...| Musical Instruments|  2.0|\n",
            "|15 Mandamientos p...|    Business Finance|  1.0|\n",
            "|17 Complete JavaS...|     Web Development|  0.0|\n",
            "|188% Profit in 1Y...|    Business Finance|  1.0|\n",
            "|2 Easy Steps To I...|    Business Finance|  1.0|\n",
            "|3 step formula fo...| Musical Instruments|  2.0|\n",
            "|30 Day Guitar Jum...| Musical Instruments|  2.0|\n",
            "|3DS MAX - Learn 3...|      Graphic Design|  3.0|\n",
            "+--------------------+--------------------+-----+\n",
            "only showing top 20 rows\n",
            "\n"
          ]
        }
      ]
    },
    {
      "cell_type": "code",
      "source": [
        "### Estimator\n",
        "from pyspark.ml.classification import LogisticRegression"
      ],
      "metadata": {
        "id": "z_2LOnSof_UA"
      },
      "execution_count": null,
      "outputs": []
    },
    {
      "cell_type": "code",
      "source": [
        "lr = LogisticRegression(featuresCol='vectorizedFeatures',labelCol='label')"
      ],
      "metadata": {
        "id": "I_2c2MuBgj1c"
      },
      "execution_count": null,
      "outputs": []
    },
    {
      "cell_type": "code",
      "source": [
        "from pyspark.ml import Pipeline\n",
        "pipeline = Pipeline(stages=[tokenizer,stopwords_remover,vectorizer,idf,lr])\n",
        "pipeline"
      ],
      "metadata": {
        "colab": {
          "base_uri": "https://localhost:8080/"
        },
        "id": "NV-mYcJtgzKd",
        "outputId": "d71bb0d4-32a1-4c54-ab9c-a9c26ddad338"
      },
      "execution_count": null,
      "outputs": [
        {
          "output_type": "execute_result",
          "data": {
            "text/plain": [
              "Pipeline_82f3edbea34f"
            ]
          },
          "metadata": {},
          "execution_count": 42
        }
      ]
    },
    {
      "cell_type": "code",
      "source": [
        "#https://spark.apache.org/docs/latest/ml-pipeline.html\n",
        "pipeline.stages"
      ],
      "metadata": {
        "colab": {
          "base_uri": "https://localhost:8080/"
        },
        "id": "DMHde1L_g2mZ",
        "outputId": "6ff22b80-b7ff-48cc-c382-22ca3590b754"
      },
      "execution_count": null,
      "outputs": [
        {
          "output_type": "execute_result",
          "data": {
            "text/plain": [
              "Param(parent='Pipeline_82f3edbea34f', name='stages', doc='a list of pipeline stages')"
            ]
          },
          "metadata": {},
          "execution_count": 43
        }
      ]
    },
    {
      "cell_type": "code",
      "source": [
        "# creation du modele\n",
        "lr_model = pipeline.fit(trainDF)"
      ],
      "metadata": {
        "id": "EnbYZFojg6NO"
      },
      "execution_count": null,
      "outputs": []
    },
    {
      "cell_type": "code",
      "source": [
        "#Prediction\n",
        "predictions = lr_model.transform(testDF)"
      ],
      "metadata": {
        "id": "XkzKqZi0hE1n"
      },
      "execution_count": null,
      "outputs": []
    },
    {
      "cell_type": "code",
      "source": [
        "predictions.show()"
      ],
      "metadata": {
        "colab": {
          "base_uri": "https://localhost:8080/"
        },
        "id": "UR_kjUgLhLPS",
        "outputId": "f301f700-054f-4614-d890-ba68cb117a52"
      },
      "execution_count": null,
      "outputs": [
        {
          "output_type": "stream",
          "name": "stdout",
          "text": [
            "+--------------------+-------------------+-----+--------------------+--------------------+--------------------+--------------------+--------------------+--------------------+----------+\n",
            "|        course_title|            subject|label|            mytokens|     filtered_tokens|         rawFeatures|  vectorizedFeatures|       rawPrediction|         probability|prediction|\n",
            "+--------------------+-------------------+-----+--------------------+--------------------+--------------------+--------------------+--------------------+--------------------+----------+\n",
            "|#12 Hand Coordina...|Musical Instruments|  2.0|[#12, hand, coord...|[#12, hand, coord...|(3670,[394,491,60...|(3670,[394,491,60...|[5.54102656956039...|[0.28268355868210...|       2.0|\n",
            "|#7 Piano Hand Coo...|Musical Instruments|  2.0|[#7, piano, hand,...|[#7, piano, hand,...|(3670,[9,13,60,23...|(3670,[9,13,60,23...|[-6.0823322867725...|[1.03215810501627...|       2.0|\n",
            "|'Greensleeves' Cr...|Musical Instruments|  2.0|['greensleeves', ...|['greensleeves', ...|(3670,[6,9,45,375...|(3670,[6,9,45,375...|[-1.0421312486408...|[1.23270090596040...|       2.0|\n",
            "|* An Integrated A...|   Business Finance|  1.0|[*, an, integrate...|[*, integrated, a...|(3670,[23,75,435,...|(3670,[23,75,435,...|[-2.8211817226973...|[4.77760520071682...|       1.0|\n",
            "|         1 Hour HTML|    Web Development|  0.0|     [1, hour, html]|     [1, hour, html]|(3670,[24,36,110]...|(3670,[24,36,110]...|[21.7088196964786...|[0.99999998997280...|       0.0|\n",
            "|   1 Hour JavaScript|    Web Development|  0.0|[1, hour, javascr...|[1, hour, javascr...|(3670,[18,36,110]...|(3670,[18,36,110]...|[20.0054038096237...|[0.99999996031555...|       0.0|\n",
            "|       1 hour jQuery|    Web Development|  0.0|   [1, hour, jquery]|   [1, hour, jquery]|(3670,[36,62,110]...|(3670,[36,62,110]...|[18.0923732265661...|[0.99999972290786...|       0.0|\n",
            "|101 Awesome Rocka...|Musical Instruments|  2.0|[101, awesome, ro...|[101, awesome, ro...|(3670,[7,233,291,...|(3670,[7,233,291,...|[-8.4472424740876...|[4.30624176246944...|       2.0|\n",
            "|15  Motion Graphi...|     Graphic Design|  3.0|[15, , motion, gr...|[15, , motion, gr...|(3670,[35,90,434,...|(3670,[35,90,434,...|[-24.070755030458...|[7.95180520147232...|       3.0|\n",
            "|150 Rock Guitar L...|Musical Instruments|  2.0|[150, rock, guita...|[150, rock, guita...|(3670,[7,145,175,...|(3670,[7,145,175,...|[-6.0537484536424...|[8.42550616218723...|       2.0|\n",
            "|16 Guitar Chords ...|Musical Instruments|  2.0|[16, guitar, chor...|[16, guitar, chor...|(3670,[0,7,129,17...|(3670,[0,7,129,17...|[-6.3817794402846...|[7.02018495157187...|       2.0|\n",
            "|2. Principles of ...|   Business Finance|  1.0|[2., principles, ...|[2., principles, ...|(3670,[0,41,102,3...|(3670,[0,41,102,3...|[0.16718557356847...|[2.62404806669645...|       1.0|\n",
            "|3 Little Pigs: A ...|   Business Finance|  1.0|[3, little, pigs:...|[3, little, pigs:...|(3670,[2,11,60,14...|(3670,[2,11,60,14...|[-7.8293554279701...|[5.14413415775297...|       1.0|\n",
            "|3 documentos clav...|   Business Finance|  1.0|[3, documentos, c...|[3, documentos, c...|(3670,[60,89,165,...|(3670,[60,89,165,...|[4.03455614234510...|[0.00472104046684...|       1.0|\n",
            "|3. Compound Inter...|   Business Finance|  1.0|[3., compound, in...|[3., compound, in...| (3670,[1092],[1.0])|(3670,[1092],[6.7...|[1.89940744267248...|[4.28050172847743...|       1.0|\n",
            "|31 Day Guitar Cha...|Musical Instruments|  2.0|[31, day, guitar,...|[31, day, guitar,...|(3670,[7,112,1870...|(3670,[7,112,1870...|[-9.0086539300652...|[1.15163926524974...|       2.0|\n",
            "|3D Programming wi...|    Web Development|  0.0|[3d, programming,...|[3d, programming,...|(3670,[4,87,339],...|(3670,[4,87,339],...|[10.9077562493571...|[0.98967316391086...|       0.0|\n",
            "|4. Ordinary Simpl...|   Business Finance|  1.0|[4., ordinary, si...|[4., ordinary, si...|(3670,[38,102],[1...|(3670,[38,102],[3...|[2.57286792718722...|[3.77644801255591...|       1.0|\n",
            "|5 lecciones que t...|Musical Instruments|  2.0|[5, lecciones, qu...|[5, lecciones, qu...|(3670,[82,3515],[...|(3670,[82,3515],[...|[6.02547956895747...|[0.16529587719244...|       1.0|\n",
            "|6 Must Know Trick...|Musical Instruments|  2.0|[6, must, know, t...|[6, must, know, t...|(3670,[145,255,32...|(3670,[145,255,32...|[13.8525237292059...|[0.99589111984389...|       0.0|\n",
            "+--------------------+-------------------+-----+--------------------+--------------------+--------------------+--------------------+--------------------+--------------------+----------+\n",
            "only showing top 20 rows\n",
            "\n"
          ]
        }
      ]
    },
    {
      "cell_type": "code",
      "source": [
        "predictions.select('rawfeatures','vectorizedfeatures').show(5)"
      ],
      "metadata": {
        "colab": {
          "base_uri": "https://localhost:8080/"
        },
        "id": "CMB2KB2WJ7e0",
        "outputId": "2cf903d4-1c53-48d0-e941-9e829b541b55"
      },
      "execution_count": null,
      "outputs": [
        {
          "output_type": "stream",
          "name": "stdout",
          "text": [
            "+--------------------+--------------------+\n",
            "|         rawfeatures|  vectorizedfeatures|\n",
            "+--------------------+--------------------+\n",
            "|(3670,[394,491,60...|(3670,[394,491,60...|\n",
            "|(3670,[9,13,60,23...|(3670,[9,13,60,23...|\n",
            "|(3670,[6,9,45,375...|(3670,[6,9,45,375...|\n",
            "|(3670,[23,75,435,...|(3670,[23,75,435,...|\n",
            "|(3670,[24,36,110]...|(3670,[24,36,110]...|\n",
            "+--------------------+--------------------+\n",
            "only showing top 5 rows\n",
            "\n"
          ]
        }
      ]
    },
    {
      "cell_type": "code",
      "source": [
        "predictions.select('rawPrediction','probability','subject','label','prediction').show(10)"
      ],
      "metadata": {
        "colab": {
          "base_uri": "https://localhost:8080/"
        },
        "id": "UQjR7DqWhsnN",
        "outputId": "4645c70b-afb8-4b29-a461-aec2d40b6790"
      },
      "execution_count": null,
      "outputs": [
        {
          "output_type": "stream",
          "name": "stdout",
          "text": [
            "+--------------------+--------------------+-------------------+-----+----------+\n",
            "|       rawPrediction|         probability|            subject|label|prediction|\n",
            "+--------------------+--------------------+-------------------+-----+----------+\n",
            "|[5.54102656956039...|[0.28268355868210...|Musical Instruments|  2.0|       2.0|\n",
            "|[-6.0823322867725...|[1.03215810501627...|Musical Instruments|  2.0|       2.0|\n",
            "|[-1.0421312486408...|[1.23270090596040...|Musical Instruments|  2.0|       2.0|\n",
            "|[-2.8211817226973...|[4.77760520071682...|   Business Finance|  1.0|       1.0|\n",
            "|[21.7088196964786...|[0.99999998997280...|    Web Development|  0.0|       0.0|\n",
            "|[20.0054038096237...|[0.99999996031555...|    Web Development|  0.0|       0.0|\n",
            "|[18.0923732265661...|[0.99999972290786...|    Web Development|  0.0|       0.0|\n",
            "|[-8.4472424740876...|[4.30624176246944...|Musical Instruments|  2.0|       2.0|\n",
            "|[-24.070755030458...|[7.95180520147232...|     Graphic Design|  3.0|       3.0|\n",
            "|[-6.0537484536424...|[8.42550616218723...|Musical Instruments|  2.0|       2.0|\n",
            "+--------------------+--------------------+-------------------+-----+----------+\n",
            "only showing top 10 rows\n",
            "\n"
          ]
        }
      ]
    },
    {
      "cell_type": "code",
      "source": [
        "### Model Evaluation\n",
        "\n",
        "from pyspark.ml.evaluation import MulticlassClassificationEvaluator\n",
        "evaluator = MulticlassClassificationEvaluator(labelCol='label',predictionCol='prediction',metricName='accuracy')\n",
        "accuracy = evaluator.evaluate(predictions)\n",
        "accuracy"
      ],
      "metadata": {
        "colab": {
          "base_uri": "https://localhost:8080/"
        },
        "id": "Lo0Aqbwxh-yk",
        "outputId": "4ce3048d-654d-4bc7-9169-fa735b86293b"
      },
      "execution_count": null,
      "outputs": [
        {
          "output_type": "execute_result",
          "data": {
            "text/plain": [
              "0.9173003802281369"
            ]
          },
          "metadata": {},
          "execution_count": 103
        }
      ]
    },
    {
      "cell_type": "code",
      "source": [
        "#### Method 2: Precision. F1Score (Classification Report)\n",
        "from pyspark.mllib.evaluation import MulticlassMetrics\n",
        "lr_metric = MulticlassMetrics(predictions['label','prediction'].rdd)\n",
        "print(\"Accuracy:\",lr_metric.accuracy)\n",
        "print(\"Precision:\",lr_metric.precision(1.0))\n",
        "print(\"Recall:\",lr_metric.recall(1.0))\n",
        "print(\"F1Score:\",lr_metric.fMeasure(1.0))"
      ],
      "metadata": {
        "colab": {
          "base_uri": "https://localhost:8080/"
        },
        "id": "o_2mGw1SiIuA",
        "outputId": "84b62b4a-d62e-4b2e-f8e0-edd00525c9dd"
      },
      "execution_count": null,
      "outputs": [
        {
          "output_type": "stream",
          "name": "stderr",
          "text": [
            "/usr/local/lib/python3.7/dist-packages/pyspark/sql/context.py:159: FutureWarning: Deprecated in 3.0.0. Use SparkSession.builder.getOrCreate() instead.\n",
            "  FutureWarning,\n"
          ]
        },
        {
          "output_type": "stream",
          "name": "stdout",
          "text": [
            "Accuracy: 0.9173003802281369\n",
            "Precision: 0.9686609686609686\n",
            "Recall: 0.8717948717948718\n",
            "F1Score: 0.9176788124156545\n"
          ]
        }
      ]
    }
  ]
}